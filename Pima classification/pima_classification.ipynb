{
 "cells": [
  {
   "cell_type": "markdown",
   "id": "bec86f24",
   "metadata": {},
   "source": [
    "## Étape 1 : Chargement du fichier"
   ]
  },
  {
   "cell_type": "code",
   "execution_count": 1,
   "id": "9a379145",
   "metadata": {},
   "outputs": [
    {
     "name": "stdout",
     "output_type": "stream",
     "text": [
      "   Pregnancies  Glucose  BloodPressure  SkinThickness  Insulin   BMI  \\\n",
      "0            6      148             72             35        0  33.6   \n",
      "1            1       85             66             29        0  26.6   \n",
      "2            8      183             64              0        0  23.3   \n",
      "3            1       89             66             23       94  28.1   \n",
      "4            0      137             40             35      168  43.1   \n",
      "\n",
      "   DiabetesPedigreeFunction  Age  Outcome  \n",
      "0                     0.627   50        1  \n",
      "1                     0.351   31        0  \n",
      "2                     0.672   32        1  \n",
      "3                     0.167   21        0  \n",
      "4                     2.288   33        1  \n",
      "<class 'pandas.core.frame.DataFrame'>\n",
      "RangeIndex: 768 entries, 0 to 767\n",
      "Data columns (total 9 columns):\n",
      " #   Column                    Non-Null Count  Dtype  \n",
      "---  ------                    --------------  -----  \n",
      " 0   Pregnancies               768 non-null    int64  \n",
      " 1   Glucose                   768 non-null    int64  \n",
      " 2   BloodPressure             768 non-null    int64  \n",
      " 3   SkinThickness             768 non-null    int64  \n",
      " 4   Insulin                   768 non-null    int64  \n",
      " 5   BMI                       768 non-null    float64\n",
      " 6   DiabetesPedigreeFunction  768 non-null    float64\n",
      " 7   Age                       768 non-null    int64  \n",
      " 8   Outcome                   768 non-null    int64  \n",
      "dtypes: float64(2), int64(7)\n",
      "memory usage: 54.1 KB\n",
      "None\n"
     ]
    }
   ],
   "source": [
    "\n",
    "import pandas as pd\n",
    "\n",
    "# Chargement du fichier CSV\n",
    "df = pd.read_csv('diabetes.csv')\n",
    "\n",
    "# Aperçu des premières lignes\n",
    "print(df.head())\n",
    "\n",
    "# Aperçu des informations générales\n",
    "print(df.info())\n"
   ]
  },
  {
   "cell_type": "markdown",
   "id": "e2422855",
   "metadata": {},
   "source": [
    "## Étape 2 : Nettoyage et prétraitement"
   ]
  },
  {
   "cell_type": "code",
   "execution_count": 2,
   "id": "561d067d",
   "metadata": {},
   "outputs": [],
   "source": [
    "\n",
    "import numpy as np\n",
    "\n",
    "# Liste des colonnes à corriger (zéros invalides)\n",
    "cols_with_zero_invalid = ['Glucose', 'BloodPressure', 'SkinThickness', 'Insulin', 'BMI']\n",
    "\n",
    "# Remplacer les zéros par NaN\n",
    "df[cols_with_zero_invalid] = df[cols_with_zero_invalid].replace(0, np.nan)\n",
    "\n",
    "# Imputation par la médiane\n",
    "df[cols_with_zero_invalid] = df[cols_with_zero_invalid].fillna(df[cols_with_zero_invalid].median())\n"
   ]
  },
  {
   "cell_type": "markdown",
   "id": "dec3a67e",
   "metadata": {},
   "source": [
    "## Étape 3 : Analyse exploratoire des données (EDA)"
   ]
  },
  {
   "cell_type": "code",
   "execution_count": 3,
   "id": "416b0280",
   "metadata": {},
   "outputs": [
    {
     "name": "stderr",
     "output_type": "stream",
     "text": [
      "Matplotlib is building the font cache; this may take a moment.\n"
     ]
    },
    {
     "data": {
      "image/png": "[encoded data removed]",
      "text/plain": [
       "<Figure size 640x480 with 1 Axes>"
      ]
     },
     "metadata": {},
     "output_type": "display_data"
    },
    {
     "name": "stdout",
     "output_type": "stream",
     "text": [
      "        Pregnancies                                                Glucose  \\\n",
      "              count      mean       std  min   25%  50%  75%   max   count   \n",
      "Outcome                                                                      \n",
      "0             500.0  3.298000  3.017185  0.0  1.00  2.0  5.0  13.0   500.0   \n",
      "1             268.0  4.865672  3.741239  0.0  1.75  4.0  8.0  17.0   268.0   \n",
      "\n",
      "                     ... DiabetesPedigreeFunction           Age             \\\n",
      "               mean  ...                      75%    max  count       mean   \n",
      "Outcome              ...                                                     \n",
      "0        110.682000  ...                  0.56175  2.329  500.0  31.190000   \n",
      "1        142.130597  ...                  0.72800  2.420  268.0  37.067164   \n",
      "\n",
      "                                                  \n",
      "               std   min   25%   50%   75%   max  \n",
      "Outcome                                           \n",
      "0        11.667655  21.0  23.0  27.0  37.0  81.0  \n",
      "1        10.968254  21.0  28.0  36.0  44.0  70.0  \n",
      "\n",
      "[2 rows x 64 columns]\n"
     ]
    }
   ],
   "source": [
    "\n",
    "import seaborn as sns\n",
    "import matplotlib.pyplot as plt\n",
    "\n",
    "# Barplot distribution étiquette\n",
    "sns.countplot(data=df, x='Outcome')\n",
    "plt.title(\"Distribution des classes\")\n",
    "plt.show()\n",
    "\n",
    "# Statistiques descriptives par classe\n",
    "print(df.groupby('Outcome').describe())\n"
   ]
  },
  {
   "cell_type": "markdown",
   "id": "3aa5009e",
   "metadata": {},
   "source": [
    "## Étape 4 : Séparation des données"
   ]
  },
  {
   "cell_type": "code",
   "execution_count": 4,
   "id": "10bbe64d",
   "metadata": {},
   "outputs": [],
   "source": [
    "\n",
    "from sklearn.model_selection import train_test_split\n",
    "\n",
    "X = df.drop('Outcome', axis=1)\n",
    "y = df['Outcome']\n",
    "\n",
    "# Split train + temp\n",
    "X_train, X_temp, y_train, y_temp = train_test_split(X, y, test_size=0.4, random_state=42, stratify=y)\n",
    "\n",
    "# Split temp => validation et test\n",
    "X_val, X_test, y_val, y_test = train_test_split(X_temp, y_temp, test_size=0.5, random_state=42, stratify=y_temp)\n"
   ]
  },
  {
   "cell_type": "markdown",
   "id": "f7445a57",
   "metadata": {},
   "source": [
    "## Étape 5 : Normalisation des features"
   ]
  },
  {
   "cell_type": "code",
   "execution_count": 5,
   "id": "1f1d458e",
   "metadata": {},
   "outputs": [],
   "source": [
    "\n",
    "from sklearn.preprocessing import StandardScaler\n",
    "\n",
    "scaler = StandardScaler()\n",
    "X_train_scaled = scaler.fit_transform(X_train)\n",
    "X_val_scaled = scaler.transform(X_val)\n",
    "X_test_scaled = scaler.transform(X_test)\n"
   ]
  },
  {
   "cell_type": "markdown",
   "id": "e503a4dd",
   "metadata": {},
   "source": [
    "## Étape 6-7 : Modélisation - Régression Logistique"
   ]
  },
  {
   "cell_type": "code",
   "execution_count": 6,
   "id": "3d4659ec",
   "metadata": {},
   "outputs": [
    {
     "name": "stdout",
     "output_type": "stream",
     "text": [
      "Accuracy: 0.7792207792207793\n",
      "Precision: 0.6612903225806451\n",
      "Recall: 0.7592592592592593\n",
      "F1 Score: 0.7068965517241379\n"
     ]
    }
   ],
   "source": [
    "\n",
    "from sklearn.linear_model import LogisticRegression\n",
    "from sklearn.metrics import accuracy_score, precision_score, recall_score, f1_score\n",
    "\n",
    "model = LogisticRegression(class_weight='balanced', random_state=42)\n",
    "model.fit(X_train_scaled, y_train)\n",
    "\n",
    "y_val_pred = model.predict(X_val_scaled)\n",
    "\n",
    "print(\"Accuracy:\", accuracy_score(y_val, y_val_pred))\n",
    "print(\"Precision:\", precision_score(y_val, y_val_pred))\n",
    "print(\"Recall:\", recall_score(y_val, y_val_pred))\n",
    "print(\"F1 Score:\", f1_score(y_val, y_val_pred))\n"
   ]
  },
  {
   "cell_type": "markdown",
   "id": "37e8380d",
   "metadata": {},
   "source": [
    "## Étape 8 : Évaluation finale sur le test set"
   ]
  },
  {
   "cell_type": "code",
   "execution_count": 7,
   "id": "50697228",
   "metadata": {},
   "outputs": [
    {
     "data": {
      "image/png": "[encoded data removed]",
      "text/plain": [
       "<Figure size 640x480 with 2 Axes>"
      ]
     },
     "metadata": {},
     "output_type": "display_data"
    }
   ],
   "source": [
    "\n",
    "from sklearn.metrics import confusion_matrix, ConfusionMatrixDisplay\n",
    "\n",
    "y_test_pred = model.predict(X_test_scaled)\n",
    "cm = confusion_matrix(y_test, y_test_pred)\n",
    "disp = ConfusionMatrixDisplay(confusion_matrix=cm)\n",
    "disp.plot()\n",
    "plt.title(\"Matrice de confusion - Test Set\")\n",
    "plt.show()\n"
   ]
  },
  {
   "cell_type": "markdown",
   "id": "362790f5",
   "metadata": {},
   "source": [
    "## Étape 9 : Interprétabilité et analyse d'erreurs"
   ]
  },
  {
   "cell_type": "code",
   "execution_count": 8,
   "id": "9dc96b8f",
   "metadata": {},
   "outputs": [
    {
     "data": {
      "image/png": "[encoded data removed]",
      "text/plain": [
       "<Figure size 640x480 with 1 Axes>"
      ]
     },
     "metadata": {},
     "output_type": "display_data"
    },
    {
     "name": "stdout",
     "output_type": "stream",
     "text": [
      "Faux positifs: 26, Faux négatifs: 17\n"
     ]
    }
   ],
   "source": [
    "\n",
    "# Importance des features\n",
    "importance = pd.Series(model.coef_[0], index=X.columns)\n",
    "importance.sort_values().plot(kind='barh', title=\"Importance des variables\")\n",
    "plt.show()\n",
    "\n",
    "# Faux positifs / faux négatifs\n",
    "fp = ((y_test_pred == 1) & (y_test == 0)).sum()\n",
    "fn = ((y_test_pred == 0) & (y_test == 1)).sum()\n",
    "print(f\"Faux positifs: {fp}, Faux négatifs: {fn}\")\n"
   ]
  },
  {
   "cell_type": "markdown",
   "id": "b660ad65",
   "metadata": {},
   "source": [
    "## Étape 10 : Conclusion\n",
    "Le modèle de régression logistique fournit des résultats satisfaisants sur ce dataset. Des pistes d'amélioration incluent l'essai de modèles plus avancés (Random Forest, XGBoost), la collecte de données plus équilibrées, et l'ajout de techniques d'interprétabilité supplémentaires."
   ]
  }
 ],
 "metadata": {
  "kernelspec": {
   "display_name": "Python 3",
   "name": "python3"
  },
  "language_info": {
   "codemirror_mode": {
    "name": "ipython",
    "version": 3
   },
   "file_extension": ".py",
   "mimetype": "text/x-python",
   "name": "python",
   "nbconvert_exporter": "python",
   "pygments_lexer": "ipython3",
   "version": "3.12.6"
  }
 },
 "nbformat": 4,
 "nbformat_minor": 5
}
